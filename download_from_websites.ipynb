{
 "cells": [
  {
   "cell_type": "code",
   "execution_count": 40,
   "id": "38685858",
   "metadata": {},
   "outputs": [],
   "source": [
    "from datetime import date, timedelta\n",
    "import pandas as pd\n",
    "import requests\n",
    "\n",
    "for i in range(20):\n",
    "    today = date.today().isoformat()\n",
    "    next_day = pd.to_datetime(today) - timedelta(days = i)\n",
    "    next_day = f\"{next_day}\"[:10]\n",
    "    file_url = f\"http://mic2000.promes.cnrs.fr/donneesMeteo/archives/export.php?type=csv&jour={next_day}&capteurs=4&debH=4&debM=0&finH=20&finM=0&moyennage=1&DB=meteo\"\n",
    "    with open(f\"/home/hossein/Nowcasting_new/development/measurement_Odeillo/daily_ghi/{next_day}.csv\",'wb') as f:\n",
    "\n",
    "        f.write(r.content)"
   ]
  }
 ],
 "metadata": {
  "kernelspec": {
   "display_name": "Python 3 (ipykernel)",
   "language": "python",
   "name": "python3"
  },
  "language_info": {
   "codemirror_mode": {
    "name": "ipython",
    "version": 3
   },
   "file_extension": ".py",
   "mimetype": "text/x-python",
   "name": "python",
   "nbconvert_exporter": "python",
   "pygments_lexer": "ipython3",
   "version": "3.8.13"
  }
 },
 "nbformat": 4,
 "nbformat_minor": 5
}
