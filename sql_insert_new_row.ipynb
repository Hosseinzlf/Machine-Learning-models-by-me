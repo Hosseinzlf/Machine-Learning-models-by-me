{
 "cells": [
  {
   "cell_type": "code",
   "execution_count": 11,
   "id": "4f95eb4d",
   "metadata": {},
   "outputs": [
    {
     "data": {
      "text/plain": [
       "'2023-01-09 09:35:00'"
      ]
     },
     "execution_count": 11,
     "metadata": {},
     "output_type": "execute_result"
    }
   ],
   "source": [
    "from datetime import datetime\n",
    "import pandas as pd\n",
    "indx_Odi = '2023-01-09_093500'\n",
    "s = datetime.strptime(indx_Odi,'%Y-%m-%d_%H%M%S')\n",
    "DateTimeImage = pd.to_datetime(s,infer_datetime_format = True).isoformat(' ')\n",
    "DateTimeImage"
   ]
  },
  {
   "cell_type": "code",
   "execution_count": 12,
   "id": "c0d0f6ca",
   "metadata": {},
   "outputs": [],
   "source": [
    "import sqlite3\n",
    "import pandas as pd\n",
    "DNI_t_v = '12'\n",
    "DNI_Pred_CNN_v = '12'\n",
    "DNI_pred_MLP_v = '12'\n",
    "conn = sqlite3.connect('nowcasting_hybrid.db') \n",
    "c = conn.cursor()\n",
    "\n",
    "c.execute('''\n",
    "        CREATE TABLE IF NOT EXISTS nowcasting\n",
    "        ([datetime] DateTimeImage PRIMARY KEY, [DNI_t] INTEGER, [DNI_Pred_CNN] INTEGER, [DNI_pred_MLP] INTEGER)\n",
    "        ''')\n",
    "\n",
    "conn.commit()\n"
   ]
  },
  {
   "cell_type": "code",
   "execution_count": 13,
   "id": "9d57a4d6",
   "metadata": {},
   "outputs": [],
   "source": [
    "import mysql.connector\n",
    "conn = sqlite3.connect('nowcasting_hybrid.db') \n",
    "c = conn.cursor()\n",
    "sql = \"INSERT INTO nowcasting (datetime, DNI_t, DNI_Pred_CNN, DNI_pred_MLP) VALUES (?,?,?,?)\"\n",
    "val = (DateTimeImage, DNI_t_v, DNI_Pred_CNN_v, DNI_pred_MLP_v)\n",
    "c.execute(sql, val)\n",
    "conn.commit()\n"
   ]
  },
  {
   "cell_type": "code",
   "execution_count": null,
   "id": "2a6a654d",
   "metadata": {},
   "outputs": [],
   "source": []
  }
 ],
 "metadata": {
  "kernelspec": {
   "display_name": "Python 3 (ipykernel)",
   "language": "python",
   "name": "python3"
  },
  "language_info": {
   "codemirror_mode": {
    "name": "ipython",
    "version": 3
   },
   "file_extension": ".py",
   "mimetype": "text/x-python",
   "name": "python",
   "nbconvert_exporter": "python",
   "pygments_lexer": "ipython3",
   "version": "3.8.13"
  }
 },
 "nbformat": 4,
 "nbformat_minor": 5
}
