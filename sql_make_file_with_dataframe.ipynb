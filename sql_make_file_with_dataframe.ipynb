{
 "cells": [
  {
   "cell_type": "code",
   "execution_count": 31,
   "metadata": {},
   "outputs": [
    {
     "data": {
      "text/plain": [
       "<sqlite3.Connection at 0x7f47654825d0>"
      ]
     },
     "execution_count": 31,
     "metadata": {},
     "output_type": "execute_result"
    }
   ],
   "source": [
    "import sqlite3\n",
    "import pandas as pd\n",
    "sqlite3.connect('outputDB')"
   ]
  },
  {
   "cell_type": "code",
   "execution_count": 32,
   "metadata": {},
   "outputs": [
    {
     "name": "stdout",
     "output_type": "stream",
     "text": [
      "Empty DataFrame\n",
      "Columns: []\n",
      "Index: []\n"
     ]
    }
   ],
   "source": [
    "conn = sqlite3.connect('test_database') \n",
    "c = conn.cursor()\n",
    "\n",
    "c.execute('''\n",
    "          CREATE TABLE IF NOT EXISTS nowcasting\n",
    "          ([datetime_UTC] datetime PRIMARY KEY, [GHImeasurment] INTEGER, [F_3min] INTEGER, [F_5min] INTEGER, [F_10min] INTEGER)\n",
    "          ''')\n",
    "          \n",
    "conn.commit()\n",
    "df = pd.DataFrame(c.fetchall())\n",
    "print (df)"
   ]
  },
  {
   "cell_type": "code",
   "execution_count": 33,
   "metadata": {},
   "outputs": [],
   "source": [
    "df = pd.read_csv(\"Performance.csv\")\n",
    "datetime = df[\"date\"].values\n",
    "f_3min = df[\"F3 min\"].values\n",
    "f_5min = df[\"F5 min\"].values\n",
    "f_10min = df[\"F10 min\"].values"
   ]
  },
  {
   "cell_type": "code",
   "execution_count": 34,
   "metadata": {},
   "outputs": [
    {
     "name": "stdout",
     "output_type": "stream",
     "text": [
      "Empty DataFrame\n",
      "Columns: []\n",
      "Index: []\n"
     ]
    }
   ],
   "source": [
    "for i in range(len(f_3min)):\n",
    "    mydatetime = f'{datetime[i]}'\n",
    "    f_3min_1= f'{f_3min[i]}'\n",
    "    f_5min_1 = f'{f_5min[i]}'\n",
    "    f_10min_1= f'{f_10min[i]}'\n",
    "    import sqlite3\n",
    "    conn = sqlite3.connect('test_database') \n",
    "    cur = conn.cursor()\n",
    "    sql = ''' insert into nowcasting(datetime_UTC, datameasurment, F_3min, F_5min, F_10min) values (?, ?, ?, ?, ?)'''\n",
    "    project = (mydatetime, None, f_3min_1,f_5min_1, f_10min_1 )\n",
    "    cur.execute(sql, project)\n",
    "    conn.commit()\n",
    "\n",
    "df = pd.DataFrame(cur.fetchall())\n",
    "print (df)\n"
   ]
  }
 ],
 "metadata": {
  "kernelspec": {
   "display_name": "Python 3.8.13 ('hzolf')",
   "language": "python",
   "name": "python3"
  },
  "language_info": {
   "codemirror_mode": {
    "name": "ipython",
    "version": 3
   },
   "file_extension": ".py",
   "mimetype": "text/x-python",
   "name": "python",
   "nbconvert_exporter": "python",
   "pygments_lexer": "ipython3",
   "version": "3.8.13"
  },
  "orig_nbformat": 4,
  "vscode": {
   "interpreter": {
    "hash": "5e32cb09ce6e38bde70ddabfc255bdcf549add0839a4038b719285f25dd32a47"
   }
  }
 },
 "nbformat": 4,
 "nbformat_minor": 2
}
