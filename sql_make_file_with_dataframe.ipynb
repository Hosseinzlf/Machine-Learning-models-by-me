{
 "cells": [
  {
   "cell_type": "code",
   "execution_count": 31,
   "metadata": {},
   "outputs": [
    {
     "data": {
      "text/plain": [
       "<sqlite3.Connection at 0x7f47654825d0>"
      ]
     },
     "execution_count": 31,
     "metadata": {},
     "output_type": "execute_result"
    }
   ],
   "source": [
    "import sqlite3\n",
    "import pandas as pd\n",
    "sqlite3.connect('PV1_real_nowcasting')"
   ]
  },
  {
   "cell_type": "code",
   "execution_count": 32,
   "metadata": {},
   "outputs": [
    {
     "name": "stdout",
     "output_type": "stream",
     "text": [
      "Empty DataFrame\n",
      "Columns: []\n",
      "Index: []\n"
     ]
    }
   ],
   "source": [
    "conn = sqlite3.connect('test_database') \n",
    "c = conn.cursor()\n",
    "\n",
    "c.execute('''\n",
    "          CREATE TABLE IF NOT EXISTS nowcasting\n",
    "          ([datetime_UTC] datetime PRIMARY KEY, [GHImeasurment] INTEGER, [Forecasting_3min] INTEGER, [Forecasting_5min] INTEGER, [Forecasting_10min] INTEGER)\n",
    "          ''')\n",
    "          \n",
    "conn.commit()\n",
    "df = pd.DataFrame(c.fetchall())\n",
    "print (df)"
   ]
  },
  {
   "cell_type": "code",
   "execution_count": 33,
   "metadata": {},
   "outputs": [],
   "source": [
    "forecasting_df = pd.read_csv(\"Performance.csv\")\n",
    "datetime = forecasting_df[\"date\"].values\n",
    "forecasting_3min = forecasting_df[\"Forecasting 3 min\"].values\n",
    "forecasting_5min = forecasting_df[\"Forecasting 5 min\"].values\n",
    "forecasting_10min = forecasting_df[\"Forecasting 10 min\"].values"
   ]
  },
  {
   "cell_type": "code",
   "execution_count": 34,
   "metadata": {},
   "outputs": [
    {
     "name": "stdout",
     "output_type": "stream",
     "text": [
      "Empty DataFrame\n",
      "Columns: []\n",
      "Index: []\n"
     ]
    }
   ],
   "source": [
    "for i in range(len(forecasting_3min)):\n",
    "    mydatetime = f'{datetime[i]}'\n",
    "    forecasting_3min_1= f'{forecasting_3min[i]}'\n",
    "    forecasting_5min_1 = f'{forecasting_5min[i]}'\n",
    "    forecasting_10min_1= f'{forecasting_10min[i]}'\n",
    "    import sqlite3\n",
    "    conn = sqlite3.connect('test_database') \n",
    "    cur = conn.cursor()\n",
    "    sql = ''' insert into nowcasting(datetime_UTC, GHImeasurment, Forecasting_3min, Forecasting_5min, Forecasting_10min) values (?, ?, ?, ?, ?)'''\n",
    "    project = (mydatetime, None, forecasting_3min_1,forecasting_5min_1, forecasting_10min_1 )\n",
    "    cur.execute(sql, project)\n",
    "    conn.commit()\n",
    "\n",
    "df = pd.DataFrame(cur.fetchall())\n",
    "print (df)\n"
   ]
  }
 ],
 "metadata": {
  "kernelspec": {
   "display_name": "Python 3.8.13 ('hzolf')",
   "language": "python",
   "name": "python3"
  },
  "language_info": {
   "codemirror_mode": {
    "name": "ipython",
    "version": 3
   },
   "file_extension": ".py",
   "mimetype": "text/x-python",
   "name": "python",
   "nbconvert_exporter": "python",
   "pygments_lexer": "ipython3",
   "version": "3.8.13"
  },
  "orig_nbformat": 4,
  "vscode": {
   "interpreter": {
    "hash": "5e32cb09ce6e38bde70ddabfc255bdcf549add0839a4038b719285f25dd32a47"
   }
  }
 },
 "nbformat": 4,
 "nbformat_minor": 2
}
